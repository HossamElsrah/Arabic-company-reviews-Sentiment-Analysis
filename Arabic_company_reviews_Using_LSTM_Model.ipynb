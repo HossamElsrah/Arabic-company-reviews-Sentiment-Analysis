{
  "nbformat": 4,
  "nbformat_minor": 0,
  "metadata": {
    "colab": {
      "provenance": [],
      "gpuType": "T4",
      "authorship_tag": "ABX9TyNQCD3drYWsOMtgdMyzjd23",
      "include_colab_link": true
    },
    "kernelspec": {
      "name": "python3",
      "display_name": "Python 3"
    },
    "language_info": {
      "name": "python"
    },
    "accelerator": "GPU"
  },
  "cells": [
    {
      "cell_type": "markdown",
      "metadata": {
        "id": "view-in-github",
        "colab_type": "text"
      },
      "source": [
        "<a href=\"https://colab.research.google.com/github/HossamElsrah/Arabic-company-reviews-Sentiment-Analysis/blob/main/Arabic_company_reviews_Using_LSTM_Model.ipynb\" target=\"_parent\"><img src=\"https://colab.research.google.com/assets/colab-badge.svg\" alt=\"Open In Colab\"/></a>"
      ]
    },
    {
      "cell_type": "markdown",
      "source": [
        "# Data Loading"
      ],
      "metadata": {
        "id": "2vd5HRUppC-v"
      }
    },
    {
      "cell_type": "code",
      "source": [
        "import pandas as pd\n",
        "\n",
        "reviews = pd.read_csv('CompanyReviews.csv')\n",
        "reviews.sample(10)"
      ],
      "metadata": {
        "colab": {
          "base_uri": "https://localhost:8080/",
          "height": 363
        },
        "id": "E3RsyvFdsIw4",
        "outputId": "4d4ff54b-d016-4d75-caca-b66442b958be"
      },
      "execution_count": 24,
      "outputs": [
        {
          "output_type": "execute_result",
          "data": {
            "text/plain": [
              "       Unnamed: 0                                 review_description  rating  \\\n",
              "8983         8983                                            خرا خرا       1   \n",
              "31184       31184                                 الحمد الله بدون دف       1   \n",
              "5065         5065                                      رائعة وممتازة       1   \n",
              "19161       19161                            تطبيق نسانا الجوع شكراً       1   \n",
              "34417       34417  سيء جدا بعد حجز سابق من اليوم الذي قبل موعد ال...      -1   \n",
              "34759       34759                                        تجربة رائعة       1   \n",
              "11644       11644  تطبيق جيد جداً سمعت انهم يعطون العملاء 65 ريال...       1   \n",
              "11508       11508  وفرو خدمة توصيل لكل المناطق في الأردن دون استثناء      -1   \n",
              "33083       33083  حسبي الله ونعم الوكيل فيكوا مش عارفه افتح ولا ...      -1   \n",
              "39146       39146               وحش جدا جدا ومش عايز يعمل تسجيل دخول      -1   \n",
              "\n",
              "             company  \n",
              "8983          talbat  \n",
              "31184         talbat  \n",
              "5065          talbat  \n",
              "19161         talbat  \n",
              "34417           swvl  \n",
              "34759           swvl  \n",
              "11644         talbat  \n",
              "11508         talbat  \n",
              "33083           swvl  \n",
              "39146  telecom_egypt  "
            ],
            "text/html": [
              "\n",
              "  <div id=\"df-52f082ad-c1bf-428b-a028-12179bc1cb78\" class=\"colab-df-container\">\n",
              "    <div>\n",
              "<style scoped>\n",
              "    .dataframe tbody tr th:only-of-type {\n",
              "        vertical-align: middle;\n",
              "    }\n",
              "\n",
              "    .dataframe tbody tr th {\n",
              "        vertical-align: top;\n",
              "    }\n",
              "\n",
              "    .dataframe thead th {\n",
              "        text-align: right;\n",
              "    }\n",
              "</style>\n",
              "<table border=\"1\" class=\"dataframe\">\n",
              "  <thead>\n",
              "    <tr style=\"text-align: right;\">\n",
              "      <th></th>\n",
              "      <th>Unnamed: 0</th>\n",
              "      <th>review_description</th>\n",
              "      <th>rating</th>\n",
              "      <th>company</th>\n",
              "    </tr>\n",
              "  </thead>\n",
              "  <tbody>\n",
              "    <tr>\n",
              "      <th>8983</th>\n",
              "      <td>8983</td>\n",
              "      <td>خرا خرا</td>\n",
              "      <td>1</td>\n",
              "      <td>talbat</td>\n",
              "    </tr>\n",
              "    <tr>\n",
              "      <th>31184</th>\n",
              "      <td>31184</td>\n",
              "      <td>الحمد الله بدون دف</td>\n",
              "      <td>1</td>\n",
              "      <td>talbat</td>\n",
              "    </tr>\n",
              "    <tr>\n",
              "      <th>5065</th>\n",
              "      <td>5065</td>\n",
              "      <td>رائعة وممتازة</td>\n",
              "      <td>1</td>\n",
              "      <td>talbat</td>\n",
              "    </tr>\n",
              "    <tr>\n",
              "      <th>19161</th>\n",
              "      <td>19161</td>\n",
              "      <td>تطبيق نسانا الجوع شكراً</td>\n",
              "      <td>1</td>\n",
              "      <td>talbat</td>\n",
              "    </tr>\n",
              "    <tr>\n",
              "      <th>34417</th>\n",
              "      <td>34417</td>\n",
              "      <td>سيء جدا بعد حجز سابق من اليوم الذي قبل موعد ال...</td>\n",
              "      <td>-1</td>\n",
              "      <td>swvl</td>\n",
              "    </tr>\n",
              "    <tr>\n",
              "      <th>34759</th>\n",
              "      <td>34759</td>\n",
              "      <td>تجربة رائعة</td>\n",
              "      <td>1</td>\n",
              "      <td>swvl</td>\n",
              "    </tr>\n",
              "    <tr>\n",
              "      <th>11644</th>\n",
              "      <td>11644</td>\n",
              "      <td>تطبيق جيد جداً سمعت انهم يعطون العملاء 65 ريال...</td>\n",
              "      <td>1</td>\n",
              "      <td>talbat</td>\n",
              "    </tr>\n",
              "    <tr>\n",
              "      <th>11508</th>\n",
              "      <td>11508</td>\n",
              "      <td>وفرو خدمة توصيل لكل المناطق في الأردن دون استثناء</td>\n",
              "      <td>-1</td>\n",
              "      <td>talbat</td>\n",
              "    </tr>\n",
              "    <tr>\n",
              "      <th>33083</th>\n",
              "      <td>33083</td>\n",
              "      <td>حسبي الله ونعم الوكيل فيكوا مش عارفه افتح ولا ...</td>\n",
              "      <td>-1</td>\n",
              "      <td>swvl</td>\n",
              "    </tr>\n",
              "    <tr>\n",
              "      <th>39146</th>\n",
              "      <td>39146</td>\n",
              "      <td>وحش جدا جدا ومش عايز يعمل تسجيل دخول</td>\n",
              "      <td>-1</td>\n",
              "      <td>telecom_egypt</td>\n",
              "    </tr>\n",
              "  </tbody>\n",
              "</table>\n",
              "</div>\n",
              "    <div class=\"colab-df-buttons\">\n",
              "\n",
              "  <div class=\"colab-df-container\">\n",
              "    <button class=\"colab-df-convert\" onclick=\"convertToInteractive('df-52f082ad-c1bf-428b-a028-12179bc1cb78')\"\n",
              "            title=\"Convert this dataframe to an interactive table.\"\n",
              "            style=\"display:none;\">\n",
              "\n",
              "  <svg xmlns=\"http://www.w3.org/2000/svg\" height=\"24px\" viewBox=\"0 -960 960 960\">\n",
              "    <path d=\"M120-120v-720h720v720H120Zm60-500h600v-160H180v160Zm220 220h160v-160H400v160Zm0 220h160v-160H400v160ZM180-400h160v-160H180v160Zm440 0h160v-160H620v160ZM180-180h160v-160H180v160Zm440 0h160v-160H620v160Z\"/>\n",
              "  </svg>\n",
              "    </button>\n",
              "\n",
              "  <style>\n",
              "    .colab-df-container {\n",
              "      display:flex;\n",
              "      gap: 12px;\n",
              "    }\n",
              "\n",
              "    .colab-df-convert {\n",
              "      background-color: #E8F0FE;\n",
              "      border: none;\n",
              "      border-radius: 50%;\n",
              "      cursor: pointer;\n",
              "      display: none;\n",
              "      fill: #1967D2;\n",
              "      height: 32px;\n",
              "      padding: 0 0 0 0;\n",
              "      width: 32px;\n",
              "    }\n",
              "\n",
              "    .colab-df-convert:hover {\n",
              "      background-color: #E2EBFA;\n",
              "      box-shadow: 0px 1px 2px rgba(60, 64, 67, 0.3), 0px 1px 3px 1px rgba(60, 64, 67, 0.15);\n",
              "      fill: #174EA6;\n",
              "    }\n",
              "\n",
              "    .colab-df-buttons div {\n",
              "      margin-bottom: 4px;\n",
              "    }\n",
              "\n",
              "    [theme=dark] .colab-df-convert {\n",
              "      background-color: #3B4455;\n",
              "      fill: #D2E3FC;\n",
              "    }\n",
              "\n",
              "    [theme=dark] .colab-df-convert:hover {\n",
              "      background-color: #434B5C;\n",
              "      box-shadow: 0px 1px 3px 1px rgba(0, 0, 0, 0.15);\n",
              "      filter: drop-shadow(0px 1px 2px rgba(0, 0, 0, 0.3));\n",
              "      fill: #FFFFFF;\n",
              "    }\n",
              "  </style>\n",
              "\n",
              "    <script>\n",
              "      const buttonEl =\n",
              "        document.querySelector('#df-52f082ad-c1bf-428b-a028-12179bc1cb78 button.colab-df-convert');\n",
              "      buttonEl.style.display =\n",
              "        google.colab.kernel.accessAllowed ? 'block' : 'none';\n",
              "\n",
              "      async function convertToInteractive(key) {\n",
              "        const element = document.querySelector('#df-52f082ad-c1bf-428b-a028-12179bc1cb78');\n",
              "        const dataTable =\n",
              "          await google.colab.kernel.invokeFunction('convertToInteractive',\n",
              "                                                    [key], {});\n",
              "        if (!dataTable) return;\n",
              "\n",
              "        const docLinkHtml = 'Like what you see? Visit the ' +\n",
              "          '<a target=\"_blank\" href=https://colab.research.google.com/notebooks/data_table.ipynb>data table notebook</a>'\n",
              "          + ' to learn more about interactive tables.';\n",
              "        element.innerHTML = '';\n",
              "        dataTable['output_type'] = 'display_data';\n",
              "        await google.colab.output.renderOutput(dataTable, element);\n",
              "        const docLink = document.createElement('div');\n",
              "        docLink.innerHTML = docLinkHtml;\n",
              "        element.appendChild(docLink);\n",
              "      }\n",
              "    </script>\n",
              "  </div>\n",
              "\n",
              "\n",
              "    <div id=\"df-ae4315d4-cb41-4989-bb1f-cf43cd7c6abc\">\n",
              "      <button class=\"colab-df-quickchart\" onclick=\"quickchart('df-ae4315d4-cb41-4989-bb1f-cf43cd7c6abc')\"\n",
              "                title=\"Suggest charts\"\n",
              "                style=\"display:none;\">\n",
              "\n",
              "<svg xmlns=\"http://www.w3.org/2000/svg\" height=\"24px\"viewBox=\"0 0 24 24\"\n",
              "     width=\"24px\">\n",
              "    <g>\n",
              "        <path d=\"M19 3H5c-1.1 0-2 .9-2 2v14c0 1.1.9 2 2 2h14c1.1 0 2-.9 2-2V5c0-1.1-.9-2-2-2zM9 17H7v-7h2v7zm4 0h-2V7h2v10zm4 0h-2v-4h2v4z\"/>\n",
              "    </g>\n",
              "</svg>\n",
              "      </button>\n",
              "\n",
              "<style>\n",
              "  .colab-df-quickchart {\n",
              "      --bg-color: #E8F0FE;\n",
              "      --fill-color: #1967D2;\n",
              "      --hover-bg-color: #E2EBFA;\n",
              "      --hover-fill-color: #174EA6;\n",
              "      --disabled-fill-color: #AAA;\n",
              "      --disabled-bg-color: #DDD;\n",
              "  }\n",
              "\n",
              "  [theme=dark] .colab-df-quickchart {\n",
              "      --bg-color: #3B4455;\n",
              "      --fill-color: #D2E3FC;\n",
              "      --hover-bg-color: #434B5C;\n",
              "      --hover-fill-color: #FFFFFF;\n",
              "      --disabled-bg-color: #3B4455;\n",
              "      --disabled-fill-color: #666;\n",
              "  }\n",
              "\n",
              "  .colab-df-quickchart {\n",
              "    background-color: var(--bg-color);\n",
              "    border: none;\n",
              "    border-radius: 50%;\n",
              "    cursor: pointer;\n",
              "    display: none;\n",
              "    fill: var(--fill-color);\n",
              "    height: 32px;\n",
              "    padding: 0;\n",
              "    width: 32px;\n",
              "  }\n",
              "\n",
              "  .colab-df-quickchart:hover {\n",
              "    background-color: var(--hover-bg-color);\n",
              "    box-shadow: 0 1px 2px rgba(60, 64, 67, 0.3), 0 1px 3px 1px rgba(60, 64, 67, 0.15);\n",
              "    fill: var(--button-hover-fill-color);\n",
              "  }\n",
              "\n",
              "  .colab-df-quickchart-complete:disabled,\n",
              "  .colab-df-quickchart-complete:disabled:hover {\n",
              "    background-color: var(--disabled-bg-color);\n",
              "    fill: var(--disabled-fill-color);\n",
              "    box-shadow: none;\n",
              "  }\n",
              "\n",
              "  .colab-df-spinner {\n",
              "    border: 2px solid var(--fill-color);\n",
              "    border-color: transparent;\n",
              "    border-bottom-color: var(--fill-color);\n",
              "    animation:\n",
              "      spin 1s steps(1) infinite;\n",
              "  }\n",
              "\n",
              "  @keyframes spin {\n",
              "    0% {\n",
              "      border-color: transparent;\n",
              "      border-bottom-color: var(--fill-color);\n",
              "      border-left-color: var(--fill-color);\n",
              "    }\n",
              "    20% {\n",
              "      border-color: transparent;\n",
              "      border-left-color: var(--fill-color);\n",
              "      border-top-color: var(--fill-color);\n",
              "    }\n",
              "    30% {\n",
              "      border-color: transparent;\n",
              "      border-left-color: var(--fill-color);\n",
              "      border-top-color: var(--fill-color);\n",
              "      border-right-color: var(--fill-color);\n",
              "    }\n",
              "    40% {\n",
              "      border-color: transparent;\n",
              "      border-right-color: var(--fill-color);\n",
              "      border-top-color: var(--fill-color);\n",
              "    }\n",
              "    60% {\n",
              "      border-color: transparent;\n",
              "      border-right-color: var(--fill-color);\n",
              "    }\n",
              "    80% {\n",
              "      border-color: transparent;\n",
              "      border-right-color: var(--fill-color);\n",
              "      border-bottom-color: var(--fill-color);\n",
              "    }\n",
              "    90% {\n",
              "      border-color: transparent;\n",
              "      border-bottom-color: var(--fill-color);\n",
              "    }\n",
              "  }\n",
              "</style>\n",
              "\n",
              "      <script>\n",
              "        async function quickchart(key) {\n",
              "          const quickchartButtonEl =\n",
              "            document.querySelector('#' + key + ' button');\n",
              "          quickchartButtonEl.disabled = true;  // To prevent multiple clicks.\n",
              "          quickchartButtonEl.classList.add('colab-df-spinner');\n",
              "          try {\n",
              "            const charts = await google.colab.kernel.invokeFunction(\n",
              "                'suggestCharts', [key], {});\n",
              "          } catch (error) {\n",
              "            console.error('Error during call to suggestCharts:', error);\n",
              "          }\n",
              "          quickchartButtonEl.classList.remove('colab-df-spinner');\n",
              "          quickchartButtonEl.classList.add('colab-df-quickchart-complete');\n",
              "        }\n",
              "        (() => {\n",
              "          let quickchartButtonEl =\n",
              "            document.querySelector('#df-ae4315d4-cb41-4989-bb1f-cf43cd7c6abc button');\n",
              "          quickchartButtonEl.style.display =\n",
              "            google.colab.kernel.accessAllowed ? 'block' : 'none';\n",
              "        })();\n",
              "      </script>\n",
              "    </div>\n",
              "\n",
              "    </div>\n",
              "  </div>\n"
            ],
            "application/vnd.google.colaboratory.intrinsic+json": {
              "type": "dataframe",
              "summary": "{\n  \"name\": \"reviews\",\n  \"rows\": 10,\n  \"fields\": [\n    {\n      \"column\": \"Unnamed: 0\",\n      \"properties\": {\n        \"dtype\": \"number\",\n        \"std\": 12874,\n        \"min\": 5065,\n        \"max\": 39146,\n        \"num_unique_values\": 10,\n        \"samples\": [\n          33083,\n          31184,\n          34759\n        ],\n        \"semantic_type\": \"\",\n        \"description\": \"\"\n      }\n    },\n    {\n      \"column\": \"review_description\",\n      \"properties\": {\n        \"dtype\": \"string\",\n        \"num_unique_values\": 10,\n        \"samples\": [\n          \"\\u062d\\u0633\\u0628\\u064a \\u0627\\u0644\\u0644\\u0647 \\u0648\\u0646\\u0639\\u0645 \\u0627\\u0644\\u0648\\u0643\\u064a\\u0644 \\u0641\\u064a\\u0643\\u0648\\u0627 \\u0645\\u0634 \\u0639\\u0627\\u0631\\u0641\\u0647 \\u0627\\u0641\\u062a\\u062d \\u0648\\u0644\\u0627 \\u0627\\u0628\\u0644\\u064a\\u0643\\u0634\\u0646 \\u063a\\u0646\\u062f\\u064a \\u0645\\u0646 \\u0643\\u062a\\u0631 \\u0627\\u0639\\u0644\\u0627\\u0646\\u0627\\u062a\\u0643\\u0648\\u0627 \\u064a\\u0627\\u0631\\u0628 \\u0645\\u0627\\u062a\\u0643\\u0633\\u0628\\u0648\\u0627 \\u0648\\u0644\\u0627 \\u062c\\u0646\\u064a\\u0647\",\n          \"\\u0627\\u0644\\u062d\\u0645\\u062f \\u0627\\u0644\\u0644\\u0647 \\u0628\\u062f\\u0648\\u0646 \\u062f\\u0641\",\n          \"\\u062a\\u062c\\u0631\\u0628\\u0629 \\u0631\\u0627\\u0626\\u0639\\u0629\"\n        ],\n        \"semantic_type\": \"\",\n        \"description\": \"\"\n      }\n    },\n    {\n      \"column\": \"rating\",\n      \"properties\": {\n        \"dtype\": \"number\",\n        \"std\": 1,\n        \"min\": -1,\n        \"max\": 1,\n        \"num_unique_values\": 2,\n        \"samples\": [\n          -1,\n          1\n        ],\n        \"semantic_type\": \"\",\n        \"description\": \"\"\n      }\n    },\n    {\n      \"column\": \"company\",\n      \"properties\": {\n        \"dtype\": \"category\",\n        \"num_unique_values\": 3,\n        \"samples\": [\n          \"talbat\",\n          \"swvl\"\n        ],\n        \"semantic_type\": \"\",\n        \"description\": \"\"\n      }\n    }\n  ]\n}"
            }
          },
          "metadata": {},
          "execution_count": 24
        }
      ]
    },
    {
      "cell_type": "code",
      "source": [
        "reviews.info()"
      ],
      "metadata": {
        "colab": {
          "base_uri": "https://localhost:8080/"
        },
        "id": "FLfeozSzsMFn",
        "outputId": "f376cfd1-b083-4f2c-e405-006842837c24"
      },
      "execution_count": 25,
      "outputs": [
        {
          "output_type": "stream",
          "name": "stdout",
          "text": [
            "<class 'pandas.core.frame.DataFrame'>\n",
            "RangeIndex: 40046 entries, 0 to 40045\n",
            "Data columns (total 4 columns):\n",
            " #   Column              Non-Null Count  Dtype \n",
            "---  ------              --------------  ----- \n",
            " 0   Unnamed: 0          40046 non-null  int64 \n",
            " 1   review_description  40045 non-null  object\n",
            " 2   rating              40046 non-null  int64 \n",
            " 3   company             40046 non-null  object\n",
            "dtypes: int64(2), object(2)\n",
            "memory usage: 1.2+ MB\n"
          ]
        }
      ]
    },
    {
      "cell_type": "code",
      "source": [
        "reviews = reviews.drop('Unnamed: 0', axis=1)\n",
        "reviews = reviews.dropna()"
      ],
      "metadata": {
        "id": "cIT94XbesRPu"
      },
      "execution_count": 26,
      "outputs": []
    },
    {
      "cell_type": "markdown",
      "source": [
        "# Data Preprocessing"
      ],
      "metadata": {
        "id": "9fw4EY6zpIX1"
      }
    },
    {
      "cell_type": "code",
      "source": [
        "import re\n",
        "\n",
        "def find_non_arabic_chars(text):\n",
        "    non_arabic_pattern = re.compile(r'[^أ-ي\\s]')\n",
        "    found_chars = sorted(list(set(non_arabic_pattern.findall(text))))\n",
        "    return \"\".join(found_chars)\n",
        "\n",
        "reviews['non_arabic_issues'] = reviews['review_description'].apply(find_non_arabic_chars)\n",
        "\n",
        "# **This is what you need for Jupyter/Colab to display the full DataFrame:**\n",
        "reviews[['review_description', 'non_arabic_issues']]\n",
        "\n",
        "# To get a unique list of all non-Arabic characters found across the entire DataFrame:\n",
        "all_non_arabic_found = set(\"\".join(reviews['non_arabic_issues'].tolist()))\n",
        "print(f\"\\nAll unique non-Arabic characters found in the dataset: {sorted(list(all_non_arabic_found))}\")"
      ],
      "metadata": {
        "colab": {
          "base_uri": "https://localhost:8080/"
        },
        "id": "K4T1insksSgu",
        "outputId": "d5d8e2b1-d661-4c8d-ef7a-ac1a44daa664"
      },
      "execution_count": 27,
      "outputs": [
        {
          "output_type": "stream",
          "name": "stdout",
          "text": [
            "\n",
            "All unique non-Arabic characters found in the dataset: ['!', '\"', '#', '$', '%', '&', \"'\", '(', ')', '*', '+', ',', '-', '.', '/', '0', '1', '2', '3', '4', '5', '6', '7', '8', '9', ':', ';', '<', '=', '>', '?', '@', 'A', 'B', 'C', 'D', 'E', 'F', 'G', 'H', 'I', 'J', 'K', 'L', 'M', 'N', 'O', 'P', 'Q', 'R', 'S', 'T', 'U', 'V', 'W', 'X', 'Y', 'Z', '[', '\\\\', ']', '^', '_', '`', 'a', 'b', 'c', 'd', 'e', 'f', 'g', 'h', 'i', 'j', 'k', 'l', 'm', 'n', 'o', 'p', 'q', 'r', 's', 't', 'u', 'v', 'w', 'x', 'y', 'z', '{', '|', '}', '~', '¡', '¢', '£', '¤', '¥', '¦', '§', '©', '«', '¬', '°', '±', '²', '³', '¸', '¹', '»', '¿', 'Ã', 'Ç', '×', 'ß', 'ç', '÷', 'ù', 'ü', 'č', 'ğ', 'ī', 'ş', 'Š', 'ů', '˝', '̯', '̷', '͡', 'Ζ', 'Η', 'έ', 'α', 'δ', 'η', 'ι', 'ν', 'ξ', 'π', 'ω', 'Ж', 'К', 'Т', 'Я', 'а', 'б', 'в', 'д', 'е', 'ж', 'и', 'й', 'л', 'м', 'н', 'о', 'р', 'с', 'т', 'у', 'х', 'ч', 'щ', 'ь', 'ю', 'ב', 'ם', '،', '؍', '؏', '؛', '؟', 'ء', 'آ', 'ً', 'ٌ', 'ٍ', 'َ', 'ُ', 'ِ', 'ّ', 'ْ', 'ٓ', 'ٔ', 'ٕ', '٠', '١', '٢', '٣', '٤', '٥', '٦', '٧', '٨', '٩', '٪', '٬', '٭', 'ٰ', 'ٱ', 'ٺ', 'ټ', 'پ', 'څ', 'چ', 'ڑ', 'ڕ', 'ژ', 'ڜ', 'ڤ', 'ڨ', 'ک', 'ڪ', 'گ', 'ڵ', 'ھ', 'ہ', 'ۆ', 'ۈ', 'ی', 'ێ', 'ے', 'ۓ', '۔', 'ە', 'ۖ', '\\u06dd', '۟', 'ۡ', 'ۤ', '۰', '۳', '۽', 'ހ', 'ވ', '୭', 'ಠ', 'ᴗ', '\\u200b', '\\u200c', '\\u200d', '\\u200e', '\\u200f', '‑', '—', '‘', '’', '“', '”', '•', '…', '‼', '\\u2060', '\\u2066', '\\u2069', '⁰', '⁴', '⁵', '⁶', '⁷', '⁸', '⁹', '₩', '€', '⃢', '⃣', '℅', '™', '→', '↙', '⇣', '√', '∩', '⌚', '⏰', '⑤', '┊', '╭', '╮', '█', '■', '□', '▪', '▶', '◀', '◆', '◇', '○', '◍', '●', '☀', '☁', '☄', '★', '☆', '☎', '☑', '☔', '☕', '☘', '☝', '☠', '☹', '☺', '☻', '♀', '♂', '♉', '♋', '♌', '♍', '♕', '♠', '♡', '♣', '♤', '♥', '♦', '♧', '♨', '♩', '♪', '♬', '⚗', '⚘', '⚠', '⚡', '⛅', '✅', '✈', '✊', '✋', '✌', '✍', '✔', '✖', '✨', '✯', '✹', '✿', '❄', '❌', '❎', '❔', '❣', '❤', '❥', '➸', '⬇', '⭐', '《', '》', '〽', '一', '下', '与', '专', '业', '东', '个', '中', '为', '么', '之', '也', '习', '了', '事', '于', '些', '京', '人', '什', '从', '他', '以', '们', '份', '企', '众', '会', '但', '供', '促', '候', '入', '全', '公', '关', '内', '决', '准', '击', '分', '切', '利', '到', '前', '力', '加', '动', '北', '半', '去', '发', '召', '可', '右', '号', '司', '吃', '各', '向', '和', '哪', '国', '在', '场', '城', '备', '外', '大', '央', '学', '实', '客', '宣', '家', '对', '小', '就', '展', '工', '左', '市', '布', '希', '年', '广', '度', '开', '式', '强', '彻', '得', '思', '意', '我', '报', '推', '提', '敢', '新', '方', '日', '时', '是', '月', '有', '望', '本', '来', '查', '根', '模', '正', '步', '段', '没', '活', '深', '游', '点', '现', '理', '由', '百', '的', '益', '目', '看', '真', '码', '示', '社', '种', '科', '空', '站', '管', '系', '繁', '线', '给', '网', '群', '者', '而', '职', '荣', '落', '行', '表', '西', '要', '觉', '解', '言', '认', '记', '设', '证', '调', '贯', '起', '践', '身', '过', '这', '进', '通', '都', '间', '阶', '限', '需', '额', '꧁', '꧂', '것', '경', '나', '는', '니', '다', '당', '랑', '미', '사', '선', '습', '신', '우', '이', '좋', '친', '택', '하', '\\ue416', 'ﮯ', 'ﯙ', 'ﯼ', 'ﯾ', '﴾', '﴿', 'ﷲ', 'ﷺ', '﷼', '︎', '️', 'ﺂ', 'ﺃ', 'ﺍ', 'ﺎ', 'ﺑ', 'ﺒ', 'ﺗ', 'ﺘ', 'ﺚ', 'ﺞ', 'ﺟ', 'ﺤ', 'ﺧ', 'ﺩ', 'ﺪ', 'ﺮ', 'ﺰ', 'ﺱ', 'ﺲ', 'ﺶ', 'ﺸ', 'ﺿ', 'ﻄ', 'ﻉ', 'ﻋ', 'ﻌ', 'ﻐ', 'ﻓ', 'ﻕ', 'ﻘ', 'ﻛ', 'ﻜ', 'ﻝ', 'ﻞ', 'ﻟ', 'ﻠ', 'ﻣ', 'ﻤ', 'ﻧ', 'ﻨ', 'ﻩ', 'ﻪ', 'ﻫ', 'ﻭ', 'ﻮ', 'ﻰ', 'ﻱ', 'ﻲ', 'ﻳ', 'ﻴ', 'ﻵ', 'ﻷ', 'ﻹ', 'ﻻ', '：', '�', '🀄', '🆓', '🇦', '🇧', '🇨', '🇩', '🇪', '🇬', '🇭', '🇮', '🇯', '🇰', '🇱', '🇲', '🇴', '🇶', '🇷', '🇸', '🇹', '🇺', '🇼', '🇾', '🌂', '🌅', '🌈', '🌊', '🌌', '🌍', '🌏', '🌐', '🌙', '🌚', '🌝', '🌞', '🌟', '🌡', '🌭', '🌮', '🌯', '🌰', '🌱', '🌳', '🌷', '🌸', '🌹', '🌺', '🌻', '🌼', '🌾', '🌿', '🍀', '🍁', '🍃', '🍄', '🍅', '🍆', '🍇', '🍈', '🍉', '🍊', '🍋', '🍌', '🍍', '🍎', '🍏', '🍐', '🍑', '🍒', '🍓', '🍔', '🍕', '🍖', '🍗', '🍘', '🍙', '🍚', '🍛', '🍜', '🍝', '🍞', '🍟', '🍠', '🍡', '🍢', '🍣', '🍤', '🍥', '🍦', '🍧', '🍨', '🍩', '🍪', '🍫', '🍬', '🍭', '🍮', '🍯', '🍰', '🍱', '🍲', '🍳', '🍴', '🍵', '🍶', '🍷', '🍸', '🍹', '🍺', '🍻', '🍼', '🍽', '🍿', '🎀', '🎁', '🎂', '🎃', '🎅', '🎆', '🎇', '🎈', '🎉', '🎊', '🎋', '🎎', '🎑', '🎒', '🎓', '🎖', '🎤', '🎶', '🎷', '🎼', '🏁', '🏃', '🏆', '🏍', '🏕', '🏖', '🏗', '🏘', '🏛', '🏜', '🏝', '🏞', '🏢', '🏵', '🏹', '🏻', '🏼', '🏽', '🏾', '🏿', '🐄', '🐈', '🐍', '🐎', '🐏', '🐑', '🐖', '🐙', '🐛', '🐝', '🐞', '🐟', '🐥', '🐦', '🐰', '🐱', '🐴', '🐷', '🐸', '🐼', '🐾', '👀', '👄', '👅', '👆', '👇', '👈', '👉', '👊', '👋', '👌', '👍', '👎', '👏', '👐', '👑', '👒', '👕', '👗', '👙', '👞', '👠', '👥', '👦', '👨', '👩', '👮', '👯', '👰', '👱', '👲', '👶', '👷', '👸', '👹', '👺', '👻', '👼', '👽', '👾', '👿', '💀', '💁', '💂', '💃', '💄', '💆', '💉', '💊', '💋', '💌', '💍', '💎', '💐', '💒', '💓', '💔', '💕', '💖', '💗', '💘', '💙', '💚', '💛', '💜', '💝', '💞', '💟', '💢', '💣', '💥', '💦', '💧', '💨', '💩', '💪', '💫', '💯', '💲', '💶', '💸', '💿', '📀', '📈', '📉', '📗', '📜', '📣', '📱', '📲', '📵', '📷', '📺', '📿', '🔕', '🔝', '🔥', '🔪', '🔮', '🔶', '🕊', '🕋', '🕌', '🕐', '🕒', '🖇', '🖐', '🖒', '🖓', '🖕', '🖤', '🗣', '🗺', '🗿', '😀', '😁', '😂', '😃', '😄', '😅', '😆', '😇', '😈', '😉', '😊', '😋', '😌', '😍', '😎', '😏', '😐', '😑', '😒', '😓', '😔', '😕', '😖', '😗', '😘', '😙', '😚', '😛', '😜', '😝', '😞', '😟', '😠', '😡', '😢', '😣', '😤', '😥', '😦', '😧', '😨', '😩', '😪', '😫', '😬', '😭', '😮', '😯', '😰', '😱', '😲', '😳', '😴', '😵', '😶', '😷', '😸', '😹', '😺', '😻', '😼', '😽', '😾', '😿', '🙀', '🙁', '🙂', '🙃', '🙄', '🙅', '🙆', '🙇', '🙈', '🙉', '🙊', '🙋', '🙌', '🙍', '🙎', '🙏', '🚗', '🚣', '🚧', '🚫', '🚮', '🚲', '🚴', '🚶', '🚽', '🚿', '🛀', '🛐', '🛑', '🛵', '🟧', '🟫', '🤌', '🤍', '🤎', '🤏', '🤐', '🤑', '🤒', '🤓', '🤔', '🤕', '🤖', '🤗', '🤘', '🤙', '🤚', '🤛', '🤝', '🤞', '🤟', '🤡', '🤢', '🤣', '🤤', '🤦', '🤧', '🤨', '🤩', '🤪', '🤬', '🤭', '🤮', '🤯', '🤲', '🤴', '🤷', '🥀', '🥂', '🥃', '🥇', '🥉', '🥐', '🥓', '🥖', '🥗', '🥘', '🥙', '🥚', '🥞', '🥣', '🥤', '🥨', '🥩', '🥪', '🥫', '🥯', '🥰', '🥱', '🥲', '🥳', '🥴', '🥵', '🥶', '🥺', '🦄', '🦊', '🦋', '🦓', '🦛', '🦞', '🦸', '🧀', '🧁', '🧆', '🧐', '🧞', '🧡', '🧤', '🫂']\n"
          ]
        }
      ]
    },
    {
      "cell_type": "code",
      "source": [
        "import re\n",
        "import pandas as pd\n",
        "import emoji\n",
        "from googletrans import Translator\n",
        "import string\n",
        "import nltk\n",
        "nltk.download('punkt_tab')\n",
        "from nltk.tokenize import word_tokenize\n",
        "from nltk.corpus import stopwords\n",
        "from nltk.stem.isri import ISRIStemmer\n",
        "\n",
        "# Initialize libraries and tools\n",
        "try:\n",
        "    nltk.data.find('tokenizers/punkt')\n",
        "except LookupError:\n",
        "    nltk.download('punkt')\n",
        "\n",
        "try:\n",
        "    nltk.data.find('corpora/stopwords')\n",
        "except LookupError:\n",
        "    nltk.download('stopwords')\n",
        "\n",
        "translator = Translator()\n",
        "arabic_stopwords = set(stopwords.words('arabic'))\n",
        "stemmer = ISRIStemmer()\n",
        "\n",
        "arabic_numbers_to_text = {\n",
        "    '0': 'صفر', '1': 'واحد', '2': 'اثنين', '3': 'ثلاثة', '4': 'اربعة',\n",
        "    '5': 'خمسة', '6': 'ستة', '7': 'سبعة', '8': 'ثمانية', '9': 'تسعة',\n",
        "    '٠': 'صفر', '١': 'واحد', '٢': 'اثنين', '٣': 'ثلاثة', '٤': 'اربعة',\n",
        "    '٥': 'خمسة', '٦': 'ستة', '٧': 'سبعة', '٨': 'ثمانية', '٩': 'تسعة'\n",
        "}\n",
        "\n",
        "arabizi_conversion_dict = {\n",
        "    'th': 'ث', 'gh': 'غ', 'sh': 'ش', 'kh': 'خ', 'dh': 'ذ',\n",
        "    'a': 'ا', 'b': 'ب', 't': 'ت', 'g': 'ج', 'd': 'د', 'r': 'ر', 'z': 'ز',\n",
        "    's': 'س', 'f': 'ف', 'q': 'ق', 'k': 'ك', 'l': 'ل', 'm': 'م', 'n': 'ن',\n",
        "    'h': 'ه', 'w': 'و', 'y': 'ي',\n",
        "    '2': 'ء', '3': 'ع', '5': 'خ', '7': 'ح', '8': 'ق', '9': 'ص', '6': 'ط',\n",
        "}\n",
        "\n",
        "# A comprehensive function for text cleaning and preprocessing\n",
        "def comprehensive_cleaner_and_preprocess(text):\n",
        "    if not isinstance(text, str):\n",
        "        return ''\n",
        "\n",
        "    # 1. Remove control characters\n",
        "    text = re.sub(r'[\\u200B-\\u200F\\u00AD\\u202A-\\u202E\\u2060-\\u206F]', '', text)\n",
        "\n",
        "    # 2. Convert emojis to Arabic description\n",
        "    text = emoji.demojize(text, language='ar').replace(':', ' ').replace('_', ' ')\n",
        "\n",
        "    # 3. Convert numbers to Arabic text\n",
        "    for digit, arabic_word in arabic_numbers_to_text.items():\n",
        "        text = text.replace(digit, arabic_word)\n",
        "\n",
        "    # 4. Normalize elongated words\n",
        "    text = re.sub(r'(.)\\1+', r'\\1\\1', text)\n",
        "\n",
        "    # 5. Define and apply Arabizi to Arabic conversion\n",
        "    def arabizi_to_arabic_local(text):\n",
        "        for latin, arabic in arabizi_conversion_dict.items():\n",
        "            text = text.replace(latin, arabic)\n",
        "        return text\n",
        "\n",
        "    words = text.split()\n",
        "    processed_words = []\n",
        "\n",
        "    # Cache for translated words to avoid re-translating\n",
        "    words_to_translate_cache = {}\n",
        "\n",
        "    for word in words:\n",
        "        # Apply Arabizi conversion first\n",
        "        arabized_word = arabizi_to_arabic_local(word)\n",
        "\n",
        "        # 6. Translate remaining purely English words\n",
        "        if re.fullmatch(r'[a-zA-Z]+', arabized_word):\n",
        "            if arabized_word not in words_to_translate_cache:\n",
        "                try:\n",
        "                    words_to_translate_cache[arabized_word] = translator.translate(arabized_word, src='en', dest='ar').text\n",
        "                except Exception:\n",
        "                    words_to_translate_cache[arabized_word] = ''\n",
        "            processed_words.append(words_to_translate_cache[arabized_word])\n",
        "        else:\n",
        "            processed_words.append(arabized_word)\n",
        "\n",
        "    text = \" \".join(processed_words)\n",
        "\n",
        "    # 7. Remove punctuation\n",
        "    text = text.translate(str.maketrans('', '', string.punctuation.replace('_', '')))\n",
        "\n",
        "    # 8. Normalize Arabic characters\n",
        "    text = re.sub(\"[إأآا]\", \"ا\", text)\n",
        "    text = re.sub(\"ى\", \"ي\", text)\n",
        "    text = re.sub(\"ؤ\", \"ء\", text)\n",
        "    text = re.sub(\"ئ\", \"ء\", text)\n",
        "    text = re.sub(\"ة\", \"ه\", text)\n",
        "    text = re.sub(\"[گڤچپڜڪڧٱ]\", \"ا\", text)\n",
        "\n",
        "    # 9. Remove any remaining non-Arabic characters\n",
        "    text = re.sub(r'[^\\u0621-\\u064A\\s]', '', text)\n",
        "\n",
        "    # 10. Stopword removal and stemming\n",
        "    tokens = word_tokenize(text)\n",
        "    filtered_tokens = [word for word in tokens if word not in arabic_stopwords]\n",
        "    stemmed_words = [stemmer.stem(word) for word in filtered_tokens]\n",
        "\n",
        "    # 11. Re-join words and normalize spaces\n",
        "    text = \" \".join(stemmed_words)\n",
        "    text = re.sub(r'\\s+', ' ', text).strip()\n",
        "\n",
        "    return text\n",
        "\n",
        "# Apply the function to the 'reviews' DataFrame\n",
        "reviews['processed_review'] = reviews['review_description'].apply(comprehensive_cleaner_and_preprocess)\n",
        "\n",
        "print(\"Data processing is complete. Results are in the 'processed_review' column.\")\n",
        "print(\"Here are some examples:\")\n",
        "reviews[['review_description', 'processed_review']].sample(5)"
      ],
      "metadata": {
        "colab": {
          "base_uri": "https://localhost:8080/",
          "height": 275
        },
        "id": "TS8qE6qRsUFG",
        "outputId": "8f985048-3136-4fb7-ec68-766451fc8317"
      },
      "execution_count": 28,
      "outputs": [
        {
          "output_type": "stream",
          "name": "stderr",
          "text": [
            "[nltk_data] Downloading package punkt_tab to /root/nltk_data...\n",
            "[nltk_data]   Package punkt_tab is already up-to-date!\n"
          ]
        },
        {
          "output_type": "stream",
          "name": "stdout",
          "text": [
            "Data processing is complete. Results are in the 'processed_review' column.\n",
            "Here are some examples:\n"
          ]
        },
        {
          "output_type": "execute_result",
          "data": {
            "text/plain": [
              "                                      review_description  \\\n",
              "15008                         احب هالتطبيق سهل الاستخدام   \n",
              "19846                                           حلو عجيب   \n",
              "22757                        ابداع وسهولة وسرعه___اشكركم   \n",
              "37925  كان جيدا منذ فترة والآن عندما احاول فتح البرنا...   \n",
              "24623                                        مافي الاردن   \n",
              "\n",
              "                                        processed_review  \n",
              "15008                               احب هالتطبيق سهل خدم  \n",
              "19846                                            حلو عجب  \n",
              "22757                                    بدع سهل سرع شكر  \n",
              "37925  جيد فتر وال عند حول فتح رنمج اتم عمل دفع بلغ خ...  \n",
              "24623                                            افي ارد  "
            ],
            "text/html": [
              "\n",
              "  <div id=\"df-dc6438d4-8538-4c91-8992-1087e608b141\" class=\"colab-df-container\">\n",
              "    <div>\n",
              "<style scoped>\n",
              "    .dataframe tbody tr th:only-of-type {\n",
              "        vertical-align: middle;\n",
              "    }\n",
              "\n",
              "    .dataframe tbody tr th {\n",
              "        vertical-align: top;\n",
              "    }\n",
              "\n",
              "    .dataframe thead th {\n",
              "        text-align: right;\n",
              "    }\n",
              "</style>\n",
              "<table border=\"1\" class=\"dataframe\">\n",
              "  <thead>\n",
              "    <tr style=\"text-align: right;\">\n",
              "      <th></th>\n",
              "      <th>review_description</th>\n",
              "      <th>processed_review</th>\n",
              "    </tr>\n",
              "  </thead>\n",
              "  <tbody>\n",
              "    <tr>\n",
              "      <th>15008</th>\n",
              "      <td>احب هالتطبيق سهل الاستخدام</td>\n",
              "      <td>احب هالتطبيق سهل خدم</td>\n",
              "    </tr>\n",
              "    <tr>\n",
              "      <th>19846</th>\n",
              "      <td>حلو عجيب</td>\n",
              "      <td>حلو عجب</td>\n",
              "    </tr>\n",
              "    <tr>\n",
              "      <th>22757</th>\n",
              "      <td>ابداع وسهولة وسرعه___اشكركم</td>\n",
              "      <td>بدع سهل سرع شكر</td>\n",
              "    </tr>\n",
              "    <tr>\n",
              "      <th>37925</th>\n",
              "      <td>كان جيدا منذ فترة والآن عندما احاول فتح البرنا...</td>\n",
              "      <td>جيد فتر وال عند حول فتح رنمج اتم عمل دفع بلغ خ...</td>\n",
              "    </tr>\n",
              "    <tr>\n",
              "      <th>24623</th>\n",
              "      <td>مافي الاردن</td>\n",
              "      <td>افي ارد</td>\n",
              "    </tr>\n",
              "  </tbody>\n",
              "</table>\n",
              "</div>\n",
              "    <div class=\"colab-df-buttons\">\n",
              "\n",
              "  <div class=\"colab-df-container\">\n",
              "    <button class=\"colab-df-convert\" onclick=\"convertToInteractive('df-dc6438d4-8538-4c91-8992-1087e608b141')\"\n",
              "            title=\"Convert this dataframe to an interactive table.\"\n",
              "            style=\"display:none;\">\n",
              "\n",
              "  <svg xmlns=\"http://www.w3.org/2000/svg\" height=\"24px\" viewBox=\"0 -960 960 960\">\n",
              "    <path d=\"M120-120v-720h720v720H120Zm60-500h600v-160H180v160Zm220 220h160v-160H400v160Zm0 220h160v-160H400v160ZM180-400h160v-160H180v160Zm440 0h160v-160H620v160ZM180-180h160v-160H180v160Zm440 0h160v-160H620v160Z\"/>\n",
              "  </svg>\n",
              "    </button>\n",
              "\n",
              "  <style>\n",
              "    .colab-df-container {\n",
              "      display:flex;\n",
              "      gap: 12px;\n",
              "    }\n",
              "\n",
              "    .colab-df-convert {\n",
              "      background-color: #E8F0FE;\n",
              "      border: none;\n",
              "      border-radius: 50%;\n",
              "      cursor: pointer;\n",
              "      display: none;\n",
              "      fill: #1967D2;\n",
              "      height: 32px;\n",
              "      padding: 0 0 0 0;\n",
              "      width: 32px;\n",
              "    }\n",
              "\n",
              "    .colab-df-convert:hover {\n",
              "      background-color: #E2EBFA;\n",
              "      box-shadow: 0px 1px 2px rgba(60, 64, 67, 0.3), 0px 1px 3px 1px rgba(60, 64, 67, 0.15);\n",
              "      fill: #174EA6;\n",
              "    }\n",
              "\n",
              "    .colab-df-buttons div {\n",
              "      margin-bottom: 4px;\n",
              "    }\n",
              "\n",
              "    [theme=dark] .colab-df-convert {\n",
              "      background-color: #3B4455;\n",
              "      fill: #D2E3FC;\n",
              "    }\n",
              "\n",
              "    [theme=dark] .colab-df-convert:hover {\n",
              "      background-color: #434B5C;\n",
              "      box-shadow: 0px 1px 3px 1px rgba(0, 0, 0, 0.15);\n",
              "      filter: drop-shadow(0px 1px 2px rgba(0, 0, 0, 0.3));\n",
              "      fill: #FFFFFF;\n",
              "    }\n",
              "  </style>\n",
              "\n",
              "    <script>\n",
              "      const buttonEl =\n",
              "        document.querySelector('#df-dc6438d4-8538-4c91-8992-1087e608b141 button.colab-df-convert');\n",
              "      buttonEl.style.display =\n",
              "        google.colab.kernel.accessAllowed ? 'block' : 'none';\n",
              "\n",
              "      async function convertToInteractive(key) {\n",
              "        const element = document.querySelector('#df-dc6438d4-8538-4c91-8992-1087e608b141');\n",
              "        const dataTable =\n",
              "          await google.colab.kernel.invokeFunction('convertToInteractive',\n",
              "                                                    [key], {});\n",
              "        if (!dataTable) return;\n",
              "\n",
              "        const docLinkHtml = 'Like what you see? Visit the ' +\n",
              "          '<a target=\"_blank\" href=https://colab.research.google.com/notebooks/data_table.ipynb>data table notebook</a>'\n",
              "          + ' to learn more about interactive tables.';\n",
              "        element.innerHTML = '';\n",
              "        dataTable['output_type'] = 'display_data';\n",
              "        await google.colab.output.renderOutput(dataTable, element);\n",
              "        const docLink = document.createElement('div');\n",
              "        docLink.innerHTML = docLinkHtml;\n",
              "        element.appendChild(docLink);\n",
              "      }\n",
              "    </script>\n",
              "  </div>\n",
              "\n",
              "\n",
              "    <div id=\"df-02d7552b-35a6-402e-8c95-a568486ed84e\">\n",
              "      <button class=\"colab-df-quickchart\" onclick=\"quickchart('df-02d7552b-35a6-402e-8c95-a568486ed84e')\"\n",
              "                title=\"Suggest charts\"\n",
              "                style=\"display:none;\">\n",
              "\n",
              "<svg xmlns=\"http://www.w3.org/2000/svg\" height=\"24px\"viewBox=\"0 0 24 24\"\n",
              "     width=\"24px\">\n",
              "    <g>\n",
              "        <path d=\"M19 3H5c-1.1 0-2 .9-2 2v14c0 1.1.9 2 2 2h14c1.1 0 2-.9 2-2V5c0-1.1-.9-2-2-2zM9 17H7v-7h2v7zm4 0h-2V7h2v10zm4 0h-2v-4h2v4z\"/>\n",
              "    </g>\n",
              "</svg>\n",
              "      </button>\n",
              "\n",
              "<style>\n",
              "  .colab-df-quickchart {\n",
              "      --bg-color: #E8F0FE;\n",
              "      --fill-color: #1967D2;\n",
              "      --hover-bg-color: #E2EBFA;\n",
              "      --hover-fill-color: #174EA6;\n",
              "      --disabled-fill-color: #AAA;\n",
              "      --disabled-bg-color: #DDD;\n",
              "  }\n",
              "\n",
              "  [theme=dark] .colab-df-quickchart {\n",
              "      --bg-color: #3B4455;\n",
              "      --fill-color: #D2E3FC;\n",
              "      --hover-bg-color: #434B5C;\n",
              "      --hover-fill-color: #FFFFFF;\n",
              "      --disabled-bg-color: #3B4455;\n",
              "      --disabled-fill-color: #666;\n",
              "  }\n",
              "\n",
              "  .colab-df-quickchart {\n",
              "    background-color: var(--bg-color);\n",
              "    border: none;\n",
              "    border-radius: 50%;\n",
              "    cursor: pointer;\n",
              "    display: none;\n",
              "    fill: var(--fill-color);\n",
              "    height: 32px;\n",
              "    padding: 0;\n",
              "    width: 32px;\n",
              "  }\n",
              "\n",
              "  .colab-df-quickchart:hover {\n",
              "    background-color: var(--hover-bg-color);\n",
              "    box-shadow: 0 1px 2px rgba(60, 64, 67, 0.3), 0 1px 3px 1px rgba(60, 64, 67, 0.15);\n",
              "    fill: var(--button-hover-fill-color);\n",
              "  }\n",
              "\n",
              "  .colab-df-quickchart-complete:disabled,\n",
              "  .colab-df-quickchart-complete:disabled:hover {\n",
              "    background-color: var(--disabled-bg-color);\n",
              "    fill: var(--disabled-fill-color);\n",
              "    box-shadow: none;\n",
              "  }\n",
              "\n",
              "  .colab-df-spinner {\n",
              "    border: 2px solid var(--fill-color);\n",
              "    border-color: transparent;\n",
              "    border-bottom-color: var(--fill-color);\n",
              "    animation:\n",
              "      spin 1s steps(1) infinite;\n",
              "  }\n",
              "\n",
              "  @keyframes spin {\n",
              "    0% {\n",
              "      border-color: transparent;\n",
              "      border-bottom-color: var(--fill-color);\n",
              "      border-left-color: var(--fill-color);\n",
              "    }\n",
              "    20% {\n",
              "      border-color: transparent;\n",
              "      border-left-color: var(--fill-color);\n",
              "      border-top-color: var(--fill-color);\n",
              "    }\n",
              "    30% {\n",
              "      border-color: transparent;\n",
              "      border-left-color: var(--fill-color);\n",
              "      border-top-color: var(--fill-color);\n",
              "      border-right-color: var(--fill-color);\n",
              "    }\n",
              "    40% {\n",
              "      border-color: transparent;\n",
              "      border-right-color: var(--fill-color);\n",
              "      border-top-color: var(--fill-color);\n",
              "    }\n",
              "    60% {\n",
              "      border-color: transparent;\n",
              "      border-right-color: var(--fill-color);\n",
              "    }\n",
              "    80% {\n",
              "      border-color: transparent;\n",
              "      border-right-color: var(--fill-color);\n",
              "      border-bottom-color: var(--fill-color);\n",
              "    }\n",
              "    90% {\n",
              "      border-color: transparent;\n",
              "      border-bottom-color: var(--fill-color);\n",
              "    }\n",
              "  }\n",
              "</style>\n",
              "\n",
              "      <script>\n",
              "        async function quickchart(key) {\n",
              "          const quickchartButtonEl =\n",
              "            document.querySelector('#' + key + ' button');\n",
              "          quickchartButtonEl.disabled = true;  // To prevent multiple clicks.\n",
              "          quickchartButtonEl.classList.add('colab-df-spinner');\n",
              "          try {\n",
              "            const charts = await google.colab.kernel.invokeFunction(\n",
              "                'suggestCharts', [key], {});\n",
              "          } catch (error) {\n",
              "            console.error('Error during call to suggestCharts:', error);\n",
              "          }\n",
              "          quickchartButtonEl.classList.remove('colab-df-spinner');\n",
              "          quickchartButtonEl.classList.add('colab-df-quickchart-complete');\n",
              "        }\n",
              "        (() => {\n",
              "          let quickchartButtonEl =\n",
              "            document.querySelector('#df-02d7552b-35a6-402e-8c95-a568486ed84e button');\n",
              "          quickchartButtonEl.style.display =\n",
              "            google.colab.kernel.accessAllowed ? 'block' : 'none';\n",
              "        })();\n",
              "      </script>\n",
              "    </div>\n",
              "\n",
              "    </div>\n",
              "  </div>\n"
            ],
            "application/vnd.google.colaboratory.intrinsic+json": {
              "type": "dataframe",
              "summary": "{\n  \"name\": \"reviews[['review_description', 'processed_review']]\",\n  \"rows\": 5,\n  \"fields\": [\n    {\n      \"column\": \"review_description\",\n      \"properties\": {\n        \"dtype\": \"string\",\n        \"num_unique_values\": 5,\n        \"samples\": [\n          \"\\u062d\\u0644\\u0648 \\u0639\\u062c\\u064a\\u0628\",\n          \"\\u0645\\u0627\\u0641\\u064a \\u0627\\u0644\\u0627\\u0631\\u062f\\u0646\",\n          \"\\u0627\\u0628\\u062f\\u0627\\u0639 \\u0648\\u0633\\u0647\\u0648\\u0644\\u0629 \\u0648\\u0633\\u0631\\u0639\\u0647___\\u0627\\u0634\\u0643\\u0631\\u0643\\u0645\"\n        ],\n        \"semantic_type\": \"\",\n        \"description\": \"\"\n      }\n    },\n    {\n      \"column\": \"processed_review\",\n      \"properties\": {\n        \"dtype\": \"string\",\n        \"num_unique_values\": 5,\n        \"samples\": [\n          \"\\u062d\\u0644\\u0648 \\u0639\\u062c\\u0628\",\n          \"\\u0627\\u0641\\u064a \\u0627\\u0631\\u062f\",\n          \"\\u0628\\u062f\\u0639 \\u0633\\u0647\\u0644 \\u0633\\u0631\\u0639 \\u0634\\u0643\\u0631\"\n        ],\n        \"semantic_type\": \"\",\n        \"description\": \"\"\n      }\n    }\n  ]\n}"
            }
          },
          "metadata": {},
          "execution_count": 28
        }
      ]
    },
    {
      "cell_type": "code",
      "source": [
        "columns_to_drop = ['review_description', 'non_arabic_issues']\n",
        "reviews = reviews.drop(columns=columns_to_drop)"
      ],
      "metadata": {
        "id": "HMD65rDlsWqm"
      },
      "execution_count": 29,
      "outputs": []
    },
    {
      "cell_type": "code",
      "source": [
        "reviews['rating'].value_counts()"
      ],
      "metadata": {
        "colab": {
          "base_uri": "https://localhost:8080/",
          "height": 209
        },
        "id": "afVtwhD9sa-S",
        "outputId": "3bc01060-0b5b-4c3b-b5b0-670eeb14fc0e"
      },
      "execution_count": 30,
      "outputs": [
        {
          "output_type": "execute_result",
          "data": {
            "text/plain": [
              "rating\n",
              " 1    23921\n",
              "-1    14199\n",
              " 0     1925\n",
              "Name: count, dtype: int64"
            ],
            "text/html": [
              "<div>\n",
              "<style scoped>\n",
              "    .dataframe tbody tr th:only-of-type {\n",
              "        vertical-align: middle;\n",
              "    }\n",
              "\n",
              "    .dataframe tbody tr th {\n",
              "        vertical-align: top;\n",
              "    }\n",
              "\n",
              "    .dataframe thead th {\n",
              "        text-align: right;\n",
              "    }\n",
              "</style>\n",
              "<table border=\"1\" class=\"dataframe\">\n",
              "  <thead>\n",
              "    <tr style=\"text-align: right;\">\n",
              "      <th></th>\n",
              "      <th>count</th>\n",
              "    </tr>\n",
              "    <tr>\n",
              "      <th>rating</th>\n",
              "      <th></th>\n",
              "    </tr>\n",
              "  </thead>\n",
              "  <tbody>\n",
              "    <tr>\n",
              "      <th>1</th>\n",
              "      <td>23921</td>\n",
              "    </tr>\n",
              "    <tr>\n",
              "      <th>-1</th>\n",
              "      <td>14199</td>\n",
              "    </tr>\n",
              "    <tr>\n",
              "      <th>0</th>\n",
              "      <td>1925</td>\n",
              "    </tr>\n",
              "  </tbody>\n",
              "</table>\n",
              "</div><br><label><b>dtype:</b> int64</label>"
            ]
          },
          "metadata": {},
          "execution_count": 30
        }
      ]
    },
    {
      "cell_type": "code",
      "source": [
        "from sklearn.preprocessing import LabelEncoder\n",
        "\n",
        "le = LabelEncoder()\n",
        "reviews['rating'] = le.fit_transform(reviews['rating'])"
      ],
      "metadata": {
        "id": "KDaDizVGsc6v"
      },
      "execution_count": 31,
      "outputs": []
    },
    {
      "cell_type": "code",
      "source": [
        "reviews['rating'].value_counts()"
      ],
      "metadata": {
        "colab": {
          "base_uri": "https://localhost:8080/",
          "height": 209
        },
        "id": "y-7rLHsvsgrP",
        "outputId": "664ea5a7-5f42-4b74-adbd-0879c8eead8e"
      },
      "execution_count": 32,
      "outputs": [
        {
          "output_type": "execute_result",
          "data": {
            "text/plain": [
              "rating\n",
              "2    23921\n",
              "0    14199\n",
              "1     1925\n",
              "Name: count, dtype: int64"
            ],
            "text/html": [
              "<div>\n",
              "<style scoped>\n",
              "    .dataframe tbody tr th:only-of-type {\n",
              "        vertical-align: middle;\n",
              "    }\n",
              "\n",
              "    .dataframe tbody tr th {\n",
              "        vertical-align: top;\n",
              "    }\n",
              "\n",
              "    .dataframe thead th {\n",
              "        text-align: right;\n",
              "    }\n",
              "</style>\n",
              "<table border=\"1\" class=\"dataframe\">\n",
              "  <thead>\n",
              "    <tr style=\"text-align: right;\">\n",
              "      <th></th>\n",
              "      <th>count</th>\n",
              "    </tr>\n",
              "    <tr>\n",
              "      <th>rating</th>\n",
              "      <th></th>\n",
              "    </tr>\n",
              "  </thead>\n",
              "  <tbody>\n",
              "    <tr>\n",
              "      <th>2</th>\n",
              "      <td>23921</td>\n",
              "    </tr>\n",
              "    <tr>\n",
              "      <th>0</th>\n",
              "      <td>14199</td>\n",
              "    </tr>\n",
              "    <tr>\n",
              "      <th>1</th>\n",
              "      <td>1925</td>\n",
              "    </tr>\n",
              "  </tbody>\n",
              "</table>\n",
              "</div><br><label><b>dtype:</b> int64</label>"
            ]
          },
          "metadata": {},
          "execution_count": 32
        }
      ]
    },
    {
      "cell_type": "code",
      "source": [
        "import numpy as np\n",
        "from sklearn.model_selection import train_test_split\n",
        "from tensorflow.keras.preprocessing.sequence import pad_sequences\n",
        "from tensorflow.keras.preprocessing.text import Tokenizer\n",
        "\n",
        "tokenizer = Tokenizer(num_words=None, oov_token=\"<oov>\")\n",
        "tokenizer.fit_on_texts(reviews['processed_review'])\n",
        "sequences = tokenizer.texts_to_sequences(reviews['processed_review'])\n",
        "\n",
        "review_lengths = [len(seq) for seq in sequences]\n",
        "max_sequence_length = int(np.percentile(review_lengths, 95))\n",
        "padded_sequences = pad_sequences(sequences, maxlen=max_sequence_length, padding='post', truncating='post')\n",
        "\n",
        "X = np.array(padded_sequences)\n",
        "\n",
        "y = reviews['rating']\n",
        "\n",
        "X_train, X_test, y_train, y_test = train_test_split(\n",
        "    X,\n",
        "    y,\n",
        "    test_size=0.2,\n",
        "    random_state=42,\n",
        "    stratify=y\n",
        ")\n",
        "\n",
        "print(\"X_train shape:\", X_train.shape)\n",
        "print(\"X_test shape:\", X_test.shape)\n",
        "print(\"y_train shape:\", y_train.shape)\n",
        "print(\"y_test shape:\", y_test.shape)"
      ],
      "metadata": {
        "colab": {
          "base_uri": "https://localhost:8080/"
        },
        "id": "Xpj6DsKSsh8P",
        "outputId": "9b1aac05-bc5f-4bc7-e823-c225c0946ac8"
      },
      "execution_count": 33,
      "outputs": [
        {
          "output_type": "stream",
          "name": "stdout",
          "text": [
            "X_train shape: (32036, 29)\n",
            "X_test shape: (8009, 29)\n",
            "y_train shape: (32036,)\n",
            "y_test shape: (8009,)\n"
          ]
        }
      ]
    },
    {
      "cell_type": "code",
      "source": [
        "from imblearn.over_sampling import SMOTE\n",
        "from collections import Counter\n",
        "import numpy as np\n",
        "\n",
        "# A. Display the original class distribution\n",
        "print(\"Original training dataset shape %s\" % Counter(y_train))\n",
        "\n",
        "sm = SMOTE(random_state=42)\n",
        "X_train_balanced, y_train_balanced = sm.fit_resample(X_train, y_train)\n",
        "\n",
        "print('Resampled training dataset shape %s' % Counter(y_train_balanced))"
      ],
      "metadata": {
        "colab": {
          "base_uri": "https://localhost:8080/"
        },
        "id": "bctOyPWVsmaw",
        "outputId": "da820420-8eb5-4e62-95d5-86bf9c67c319"
      },
      "execution_count": 34,
      "outputs": [
        {
          "output_type": "stream",
          "name": "stdout",
          "text": [
            "Original training dataset shape Counter({2: 19137, 0: 11359, 1: 1540})\n",
            "Resampled training dataset shape Counter({2: 19137, 0: 19137, 1: 19137})\n"
          ]
        }
      ]
    },
    {
      "cell_type": "markdown",
      "source": [
        "# Model Building"
      ],
      "metadata": {
        "id": "tzeYCAefpOtc"
      }
    },
    {
      "cell_type": "code",
      "source": [
        "import tensorflow as tf\n",
        "from tensorflow.keras.models import Sequential\n",
        "from tensorflow.keras.layers import Embedding, LSTM, Dense, Dropout, Bidirectional, LayerNormalization\n",
        "from tensorflow.keras.callbacks import EarlyStopping, ModelCheckpoint\n",
        "\n",
        "# --- Define Model Hyperparameters ---\n",
        "# You should get these from your data preprocessing step\n",
        "max_words = 13658\n",
        "embedding_dim = 128\n",
        "lstm_units = 128  # Increased the number of units\n",
        "output_classes = 3\n",
        "max_sequence_length = 100 # Adjust this based on your tokenized sequences\n",
        "\n",
        "# --- Build the Model Architecture ---\n",
        "model = Sequential()\n",
        "\n",
        "# Embedding layer\n",
        "model.add(Embedding(input_dim=max_words, output_dim=embedding_dim, input_length=max_sequence_length))\n",
        "\n",
        "# First Bidirectional LSTM layer with return_sequences=True to pass to the next layer\n",
        "model.add(Bidirectional(LSTM(units=lstm_units, return_sequences=True)))\n",
        "model.add(LayerNormalization()) # Add LayerNormalization for stability and speed\n",
        "\n",
        "# Second Bidirectional LSTM layer\n",
        "model.add(Bidirectional(LSTM(units=lstm_units, return_sequences=False)))\n",
        "\n",
        "# Dropout layer to prevent overfitting\n",
        "model.add(Dropout(0.6)) # Adjusted dropout rate\n",
        "\n",
        "# Output Dense layer\n",
        "model.add(Dense(units=output_classes, activation='softmax'))\n",
        "\n",
        "# --- Compile the Model ---\n",
        "model.compile(optimizer='adam',\n",
        "              loss='sparse_categorical_crossentropy',\n",
        "              metrics=['accuracy'])\n",
        "\n",
        "# --- Define Callbacks for Training ---\n",
        "callbacks = [\n",
        "    # Stops training when validation loss stops improving\n",
        "    EarlyStopping(monitor='val_loss', patience=7, restore_best_weights=True),\n",
        "    # Saves the best model during training\n",
        "    ModelCheckpoint('best_lstm_model.h5', save_best_only=True)\n",
        "]\n",
        "\n",
        "# --- Print the Model Summary ---\n",
        "model.summary()"
      ],
      "metadata": {
        "colab": {
          "base_uri": "https://localhost:8080/",
          "height": 386
        },
        "id": "FP0BN-vsvrOD",
        "outputId": "5db8bc8a-9b65-4aa7-a968-5a6164570fa7"
      },
      "execution_count": 35,
      "outputs": [
        {
          "output_type": "stream",
          "name": "stderr",
          "text": [
            "/usr/local/lib/python3.11/dist-packages/keras/src/layers/core/embedding.py:97: UserWarning: Argument `input_length` is deprecated. Just remove it.\n",
            "  warnings.warn(\n"
          ]
        },
        {
          "output_type": "display_data",
          "data": {
            "text/plain": [
              "\u001b[1mModel: \"sequential_2\"\u001b[0m\n"
            ],
            "text/html": [
              "<pre style=\"white-space:pre;overflow-x:auto;line-height:normal;font-family:Menlo,'DejaVu Sans Mono',consolas,'Courier New',monospace\"><span style=\"font-weight: bold\">Model: \"sequential_2\"</span>\n",
              "</pre>\n"
            ]
          },
          "metadata": {}
        },
        {
          "output_type": "display_data",
          "data": {
            "text/plain": [
              "┏━━━━━━━━━━━━━━━━━━━━━━━━━━━━━━━━━┳━━━━━━━━━━━━━━━━━━━━━━━━┳━━━━━━━━━━━━━━━┓\n",
              "┃\u001b[1m \u001b[0m\u001b[1mLayer (type)                   \u001b[0m\u001b[1m \u001b[0m┃\u001b[1m \u001b[0m\u001b[1mOutput Shape          \u001b[0m\u001b[1m \u001b[0m┃\u001b[1m \u001b[0m\u001b[1m      Param #\u001b[0m\u001b[1m \u001b[0m┃\n",
              "┡━━━━━━━━━━━━━━━━━━━━━━━━━━━━━━━━━╇━━━━━━━━━━━━━━━━━━━━━━━━╇━━━━━━━━━━━━━━━┩\n",
              "│ embedding_2 (\u001b[38;5;33mEmbedding\u001b[0m)         │ ?                      │   \u001b[38;5;34m0\u001b[0m (unbuilt) │\n",
              "├─────────────────────────────────┼────────────────────────┼───────────────┤\n",
              "│ bidirectional_3 (\u001b[38;5;33mBidirectional\u001b[0m) │ ?                      │   \u001b[38;5;34m0\u001b[0m (unbuilt) │\n",
              "├─────────────────────────────────┼────────────────────────┼───────────────┤\n",
              "│ layer_normalization_1           │ ?                      │   \u001b[38;5;34m0\u001b[0m (unbuilt) │\n",
              "│ (\u001b[38;5;33mLayerNormalization\u001b[0m)            │                        │               │\n",
              "├─────────────────────────────────┼────────────────────────┼───────────────┤\n",
              "│ bidirectional_4 (\u001b[38;5;33mBidirectional\u001b[0m) │ ?                      │   \u001b[38;5;34m0\u001b[0m (unbuilt) │\n",
              "├─────────────────────────────────┼────────────────────────┼───────────────┤\n",
              "│ dropout_2 (\u001b[38;5;33mDropout\u001b[0m)             │ ?                      │             \u001b[38;5;34m0\u001b[0m │\n",
              "├─────────────────────────────────┼────────────────────────┼───────────────┤\n",
              "│ dense_2 (\u001b[38;5;33mDense\u001b[0m)                 │ ?                      │   \u001b[38;5;34m0\u001b[0m (unbuilt) │\n",
              "└─────────────────────────────────┴────────────────────────┴───────────────┘\n"
            ],
            "text/html": [
              "<pre style=\"white-space:pre;overflow-x:auto;line-height:normal;font-family:Menlo,'DejaVu Sans Mono',consolas,'Courier New',monospace\">┏━━━━━━━━━━━━━━━━━━━━━━━━━━━━━━━━━┳━━━━━━━━━━━━━━━━━━━━━━━━┳━━━━━━━━━━━━━━━┓\n",
              "┃<span style=\"font-weight: bold\"> Layer (type)                    </span>┃<span style=\"font-weight: bold\"> Output Shape           </span>┃<span style=\"font-weight: bold\">       Param # </span>┃\n",
              "┡━━━━━━━━━━━━━━━━━━━━━━━━━━━━━━━━━╇━━━━━━━━━━━━━━━━━━━━━━━━╇━━━━━━━━━━━━━━━┩\n",
              "│ embedding_2 (<span style=\"color: #0087ff; text-decoration-color: #0087ff\">Embedding</span>)         │ ?                      │   <span style=\"color: #00af00; text-decoration-color: #00af00\">0</span> (unbuilt) │\n",
              "├─────────────────────────────────┼────────────────────────┼───────────────┤\n",
              "│ bidirectional_3 (<span style=\"color: #0087ff; text-decoration-color: #0087ff\">Bidirectional</span>) │ ?                      │   <span style=\"color: #00af00; text-decoration-color: #00af00\">0</span> (unbuilt) │\n",
              "├─────────────────────────────────┼────────────────────────┼───────────────┤\n",
              "│ layer_normalization_1           │ ?                      │   <span style=\"color: #00af00; text-decoration-color: #00af00\">0</span> (unbuilt) │\n",
              "│ (<span style=\"color: #0087ff; text-decoration-color: #0087ff\">LayerNormalization</span>)            │                        │               │\n",
              "├─────────────────────────────────┼────────────────────────┼───────────────┤\n",
              "│ bidirectional_4 (<span style=\"color: #0087ff; text-decoration-color: #0087ff\">Bidirectional</span>) │ ?                      │   <span style=\"color: #00af00; text-decoration-color: #00af00\">0</span> (unbuilt) │\n",
              "├─────────────────────────────────┼────────────────────────┼───────────────┤\n",
              "│ dropout_2 (<span style=\"color: #0087ff; text-decoration-color: #0087ff\">Dropout</span>)             │ ?                      │             <span style=\"color: #00af00; text-decoration-color: #00af00\">0</span> │\n",
              "├─────────────────────────────────┼────────────────────────┼───────────────┤\n",
              "│ dense_2 (<span style=\"color: #0087ff; text-decoration-color: #0087ff\">Dense</span>)                 │ ?                      │   <span style=\"color: #00af00; text-decoration-color: #00af00\">0</span> (unbuilt) │\n",
              "└─────────────────────────────────┴────────────────────────┴───────────────┘\n",
              "</pre>\n"
            ]
          },
          "metadata": {}
        },
        {
          "output_type": "display_data",
          "data": {
            "text/plain": [
              "\u001b[1m Total params: \u001b[0m\u001b[38;5;34m0\u001b[0m (0.00 B)\n"
            ],
            "text/html": [
              "<pre style=\"white-space:pre;overflow-x:auto;line-height:normal;font-family:Menlo,'DejaVu Sans Mono',consolas,'Courier New',monospace\"><span style=\"font-weight: bold\"> Total params: </span><span style=\"color: #00af00; text-decoration-color: #00af00\">0</span> (0.00 B)\n",
              "</pre>\n"
            ]
          },
          "metadata": {}
        },
        {
          "output_type": "display_data",
          "data": {
            "text/plain": [
              "\u001b[1m Trainable params: \u001b[0m\u001b[38;5;34m0\u001b[0m (0.00 B)\n"
            ],
            "text/html": [
              "<pre style=\"white-space:pre;overflow-x:auto;line-height:normal;font-family:Menlo,'DejaVu Sans Mono',consolas,'Courier New',monospace\"><span style=\"font-weight: bold\"> Trainable params: </span><span style=\"color: #00af00; text-decoration-color: #00af00\">0</span> (0.00 B)\n",
              "</pre>\n"
            ]
          },
          "metadata": {}
        },
        {
          "output_type": "display_data",
          "data": {
            "text/plain": [
              "\u001b[1m Non-trainable params: \u001b[0m\u001b[38;5;34m0\u001b[0m (0.00 B)\n"
            ],
            "text/html": [
              "<pre style=\"white-space:pre;overflow-x:auto;line-height:normal;font-family:Menlo,'DejaVu Sans Mono',consolas,'Courier New',monospace\"><span style=\"font-weight: bold\"> Non-trainable params: </span><span style=\"color: #00af00; text-decoration-color: #00af00\">0</span> (0.00 B)\n",
              "</pre>\n"
            ]
          },
          "metadata": {}
        }
      ]
    },
    {
      "cell_type": "code",
      "source": [
        "history = model.fit(\n",
        "    X_train_balanced,\n",
        "    y_train_balanced,\n",
        "    epochs=50,\n",
        "    batch_size=32,\n",
        "    validation_data=(X_test, y_test),\n",
        "    callbacks=callbacks\n",
        ")\n",
        "history"
      ],
      "metadata": {
        "colab": {
          "base_uri": "https://localhost:8080/"
        },
        "id": "_xEZHhUnzQbP",
        "outputId": "9ae71ed0-962e-4394-a4a6-afb7644afa8e"
      },
      "execution_count": 36,
      "outputs": [
        {
          "output_type": "stream",
          "name": "stdout",
          "text": [
            "Epoch 1/50\n",
            "\u001b[1m1794/1795\u001b[0m \u001b[32m━━━━━━━━━━━━━━━━━━━\u001b[0m\u001b[37m━\u001b[0m \u001b[1m0s\u001b[0m 13ms/step - accuracy: 0.5909 - loss: 0.8643"
          ]
        },
        {
          "output_type": "stream",
          "name": "stderr",
          "text": [
            "WARNING:absl:You are saving your model as an HDF5 file via `model.save()` or `keras.saving.save_model(model)`. This file format is considered legacy. We recommend using instead the native Keras format, e.g. `model.save('my_model.keras')` or `keras.saving.save_model(model, 'my_model.keras')`. \n"
          ]
        },
        {
          "output_type": "stream",
          "name": "stdout",
          "text": [
            "\b\b\b\b\b\b\b\b\b\b\b\b\b\b\b\b\b\b\b\b\b\b\b\b\b\b\b\b\b\b\b\b\b\b\b\b\b\b\b\b\b\b\b\b\b\b\b\b\b\b\b\b\b\b\b\b\b\b\b\b\b\b\b\b\b\b\b\b\b\b\b\b\b\b\b\b\b\r\u001b[1m1795/1795\u001b[0m \u001b[32m━━━━━━━━━━━━━━━━━━━━\u001b[0m\u001b[37m\u001b[0m \u001b[1m31s\u001b[0m 15ms/step - accuracy: 0.5909 - loss: 0.8642 - val_accuracy: 0.7869 - val_loss: 0.5685\n",
            "Epoch 2/50\n",
            "\u001b[1m1795/1795\u001b[0m \u001b[32m━━━━━━━━━━━━━━━━━━━━\u001b[0m\u001b[37m\u001b[0m \u001b[1m40s\u001b[0m 15ms/step - accuracy: 0.7234 - loss: 0.6431 - val_accuracy: 0.7695 - val_loss: 0.5903\n",
            "Epoch 3/50\n",
            "\u001b[1m1795/1795\u001b[0m \u001b[32m━━━━━━━━━━━━━━━━━━━━\u001b[0m\u001b[37m\u001b[0m \u001b[1m40s\u001b[0m 14ms/step - accuracy: 0.7637 - loss: 0.5584 - val_accuracy: 0.7796 - val_loss: 0.6068\n",
            "Epoch 4/50\n",
            "\u001b[1m1795/1795\u001b[0m \u001b[32m━━━━━━━━━━━━━━━━━━━━\u001b[0m\u001b[37m\u001b[0m \u001b[1m26s\u001b[0m 14ms/step - accuracy: 0.7865 - loss: 0.5019 - val_accuracy: 0.7614 - val_loss: 0.6736\n",
            "Epoch 5/50\n",
            "\u001b[1m1795/1795\u001b[0m \u001b[32m━━━━━━━━━━━━━━━━━━━━\u001b[0m\u001b[37m\u001b[0m \u001b[1m40s\u001b[0m 14ms/step - accuracy: 0.8112 - loss: 0.4482 - val_accuracy: 0.7596 - val_loss: 0.7285\n",
            "Epoch 6/50\n",
            "\u001b[1m1795/1795\u001b[0m \u001b[32m━━━━━━━━━━━━━━━━━━━━\u001b[0m\u001b[37m\u001b[0m \u001b[1m26s\u001b[0m 15ms/step - accuracy: 0.8329 - loss: 0.4004 - val_accuracy: 0.7624 - val_loss: 0.7468\n",
            "Epoch 7/50\n",
            "\u001b[1m1795/1795\u001b[0m \u001b[32m━━━━━━━━━━━━━━━━━━━━\u001b[0m\u001b[37m\u001b[0m \u001b[1m40s\u001b[0m 14ms/step - accuracy: 0.8559 - loss: 0.3518 - val_accuracy: 0.7549 - val_loss: 0.8070\n",
            "Epoch 8/50\n",
            "\u001b[1m1795/1795\u001b[0m \u001b[32m━━━━━━━━━━━━━━━━━━━━\u001b[0m\u001b[37m\u001b[0m \u001b[1m27s\u001b[0m 15ms/step - accuracy: 0.8735 - loss: 0.3080 - val_accuracy: 0.7388 - val_loss: 0.9498\n"
          ]
        },
        {
          "output_type": "execute_result",
          "data": {
            "text/plain": [
              "<keras.src.callbacks.history.History at 0x7f2e73a75950>"
            ]
          },
          "metadata": {},
          "execution_count": 36
        }
      ]
    },
    {
      "cell_type": "markdown",
      "source": [
        "# Evaulation"
      ],
      "metadata": {
        "id": "5vdaNvDypTn5"
      }
    },
    {
      "cell_type": "code",
      "source": [
        "import numpy as np\n",
        "import seaborn as sns\n",
        "import matplotlib.pyplot as plt\n",
        "from sklearn.metrics import confusion_matrix, classification_report\n",
        "\n",
        "y_pred_probs = model.predict(X_test)\n",
        "y_pred = np.argmax(y_pred_probs, axis=1)\n",
        "\n",
        "y_true = y_test\n",
        "\n",
        "# Adjust the target_names to match the new labels\n",
        "# -1 -> 0\n",
        "# 0 -> 1\n",
        "# 1 -> 2\n",
        "new_target_names = ['Negative (-1)', 'Neutral (0)', 'Positive (1)']\n",
        "# Make sure your y_test is also label encoded in the same way\n",
        "\n",
        "print(\"--- Classification Report ---\")\n",
        "print(classification_report(y_true, y_pred, target_names=new_target_names))\n",
        "\n",
        "conf_matrix = confusion_matrix(y_true, y_pred)\n",
        "\n",
        "plt.figure(figsize=(8, 6))\n",
        "sns.heatmap(conf_matrix, annot=True, fmt='d', cmap='Blues',\n",
        "            xticklabels=new_target_names,\n",
        "            yticklabels=new_target_names)\n",
        "plt.xlabel('Predicted Label')\n",
        "plt.ylabel('True Label')\n",
        "plt.title('Confusion Matrix')\n",
        "plt.show()"
      ],
      "metadata": {
        "colab": {
          "base_uri": "https://localhost:8080/",
          "height": 772
        },
        "id": "zPpa5Hhg0ob-",
        "outputId": "6a795544-afa1-4887-fc8c-5b51b9e19e0f"
      },
      "execution_count": 37,
      "outputs": [
        {
          "output_type": "stream",
          "name": "stdout",
          "text": [
            "\u001b[1m251/251\u001b[0m \u001b[32m━━━━━━━━━━━━━━━━━━━━\u001b[0m\u001b[37m\u001b[0m \u001b[1m2s\u001b[0m 5ms/step\n",
            "--- Classification Report ---\n",
            "               precision    recall  f1-score   support\n",
            "\n",
            "Negative (-1)       0.85      0.72      0.78      2840\n",
            "  Neutral (0)       0.12      0.26      0.17       385\n",
            " Positive (1)       0.87      0.87      0.87      4784\n",
            "\n",
            "     accuracy                           0.79      8009\n",
            "    macro avg       0.61      0.62      0.61      8009\n",
            " weighted avg       0.83      0.79      0.80      8009\n",
            "\n"
          ]
        },
        {
          "output_type": "display_data",
          "data": {
            "text/plain": [
              "<Figure size 800x600 with 2 Axes>"
            ],
            "image/png": "[encoded data removed]"
          },
          "metadata": {}
        }
      ]
    },
    {
      "cell_type": "markdown",
      "source": [
        "The model shows good accuracy for the positive and negative classes.\n",
        "- However, the performance for the neutral class is low.\n",
        "- This is likely due to the significant imbalance in the dataset,\n",
        "as the number of neutral reviews is very small compared to the other classes.\n",
        "- The model did not have enough data to learn the patterns for the neutral category."
      ],
      "metadata": {
        "id": "Vrl_864owce-"
      }
    }
  ]
}